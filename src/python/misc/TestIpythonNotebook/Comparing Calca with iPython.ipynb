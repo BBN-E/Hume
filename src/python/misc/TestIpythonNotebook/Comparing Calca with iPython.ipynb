{
 "metadata": {
  "name": ""
 },
 "nbformat": 3,
 "nbformat_minor": 0,
 "worksheets": [
  {
   "cells": [
    {
     "cell_type": "markdown",
     "metadata": {},
     "source": [
      "Calca is a Mac OS X and iOS application that uses markdown to create computable notebooks. However, Calca approach is different from iPython notebooks."
     ]
    },
    {
     "cell_type": "code",
     "collapsed": false,
     "input": [
      "from astropy.constants import c,k_B,h,N_A\n",
      "from astropy.units import Quantity\n",
      "from math import exp\n",
      "\n",
      "kB = k_B\n",
      "h0 = h\n",
      "NA = N_A\n",
      "R = NA*kB\n",
      "\n",
      "def freq(wl=Quantity(1,'m')):\n",
      "    return c/wl\n",
      "\n",
      "def wl(freq=Quantity(1,'Hz')):\n",
      "    return c/freq\n",
      "\n",
      "def plank_exponent(nu,T):\n",
      "    return ((h0*nu)/(kB*T)).to(1) # to ensure it is dimensionless and units are converted\n",
      "\n",
      "def plank_factor(nu,T):\n",
      "    return 1/(exp(plank_exponent(nu,T))-1)\n",
      "\n",
      "def plank_irradiance(nu,T):\n",
      "    return 2 * h0 * pow(nu,3) / pow(c,2) * plank_factor(nu,T)\n",
      "\n",
      "print plank_exponent(\n",
      "            nu=freq( wl=( Quantity(.21,'m') ) ),\n",
      "            T=Quantity(273,'mK')\n",
      ")\n",
      "\n",
      "print plank_factor(\n",
      "            nu=freq( wl=( Quantity(.21,'m') ) ),\n",
      "            T=Quantity(273,'mK')\n",
      ")\n",
      "\n",
      "print plank_irradiance(\n",
      "            nu=freq( wl=( Quantity(.21,'m') ) ),\n",
      "            T=Quantity(273,'mK')\n",
      ").to('Jy')\n",
      "\n",
      "\n"
     ],
     "language": "python",
     "metadata": {},
     "outputs": [
      {
       "output_type": "stream",
       "stream": "stdout",
       "text": [
        "0.250964060698 \n",
        "3.50552603394\n",
        "15038.412823 Jy\n"
       ]
      }
     ],
     "prompt_number": 1
    },
    {
     "cell_type": "code",
     "collapsed": false,
     "input": [
      "plank_irradiance(T=Quantity(1e19,'K'), nu=freq( wl=Quantity(450e-9,'m'))).to('Jy')"
     ],
     "language": "python",
     "metadata": {},
     "outputs": [
      {
       "latex": [
        "$1.40249\\times 10^{+35} \\; \\mathrm{Jy}$"
       ],
       "metadata": {},
       "output_type": "pyout",
       "prompt_number": 2,
       "text": [
        "<Quantity 1.40249359811301e+35 Jy>"
       ]
      }
     ],
     "prompt_number": 2
    },
    {
     "cell_type": "code",
     "collapsed": false,
     "input": [
      "# Find temperature of source\n",
      "def irr_in_mJy_at_1420MHz(x):\n",
      "    return plank_irradiance (T=Quantity(x,'K'),nu=Quantity(1.42,'GHz')).to('mJy').value\n",
      "\n",
      "from scipy.optimize import newton\n",
      "t1 = Quantity(newton(lambda x: plank_irradiance(T=Quantity(x,'K'),nu=Quantity(1.42,'GHz')).to('mJy').value - 68.324, 1),'K')\n",
      "t2 = Quantity(newton(lambda x: irr_in_mJy_at_1420MHz(x)-68.324 , 65000),'K')\n",
      "\n",
      "print (t1,t2)"
     ],
     "language": "python",
     "metadata": {},
     "outputs": [
      {
       "output_type": "stream",
       "stream": "stdout",
       "text": [
        "(<Quantity 0.006177665527978202 K>, <Quantity 0.0061776655275295736 K>)\n"
       ]
      }
     ],
     "prompt_number": 23
    },
    {
     "cell_type": "code",
     "collapsed": false,
     "input": [
      "plank_irradiance(T=t1,nu=Quantity(1.42,'GHz')).to('mJy')"
     ],
     "language": "python",
     "metadata": {},
     "outputs": [
      {
       "latex": [
        "$68.324 \\; \\mathrm{mJy}$"
       ],
       "metadata": {},
       "output_type": "pyout",
       "prompt_number": 13,
       "text": [
        "<Quantity 68.3240000838289 mJy>"
       ]
      }
     ],
     "prompt_number": 13
    },
    {
     "cell_type": "code",
     "collapsed": false,
     "input": [
      "plank_irradiance(T=t2,nu=Quantity(1.42,'GHz')).to('mJy')"
     ],
     "language": "python",
     "metadata": {},
     "outputs": [
      {
       "latex": [
        "$68.324 \\; \\mathrm{mJy}$"
       ],
       "metadata": {},
       "output_type": "pyout",
       "prompt_number": 20,
       "text": [
        "<Quantity 68.3240000838289 mJy>"
       ]
      }
     ],
     "prompt_number": 20
    },
    {
     "cell_type": "code",
     "collapsed": false,
     "input": [],
     "language": "python",
     "metadata": {},
     "outputs": []
    }
   ],
   "metadata": {}
  }
 ]
}